{
 "cells": [
  {
   "cell_type": "markdown",
   "metadata": {},
   "source": [
    "# Exercises"
   ]
  },
  {
   "cell_type": "code",
   "execution_count": 1,
   "metadata": {},
   "outputs": [],
   "source": [
    "import numpy as np"
   ]
  },
  {
   "cell_type": "markdown",
   "metadata": {},
   "source": [
    "### #1 - Calculate the BMI (body mass index) on the two lists below using NDArrays..."
   ]
  },
  {
   "cell_type": "code",
   "execution_count": 3,
   "metadata": {},
   "outputs": [
    {
     "data": {
      "text/plain": [
       "array([16.86620458, 17.87755102, 18.82562984, 19.71450617, 20.54794521,\n",
       "       21.32943755, 22.06222222])"
      ]
     },
     "execution_count": 3,
     "metadata": {},
     "output_type": "execute_result"
    }
   ],
   "source": [
    "height = [69, 70, 71, 72, 73, 74, 75]\n",
    "weight = [110, 120, 130, 140, 150, 160, 170]\n",
    "# formula = weight / (height**2) * 730\n",
    "\n",
    "def find_bmi(height, weight):\n",
    "    w = np.array(weight)\n",
    "    h = np.array(height)\n",
    "\n",
    "    bmi = w / (h **2) * 730\n",
    "    return bmi\n",
    "\n",
    "find_bmi(height, weight)\n",
    "\n",
    "# OUTPUT: [16.86620458 17.87755102 18.82562984 19.71450617 20.54794521 21.32943755\n",
    "# 22.06222222]\n",
    "\n",
    "\n"
   ]
  },
  {
   "cell_type": "markdown",
   "metadata": {},
   "source": [
    "### #2 - Create a function that will take in two parameters and will create a random matrix based off of those parameters. Extra: Have additional parameters taken in that allow the user to choose the shape and data type of the matrix."
   ]
  },
  {
   "cell_type": "code",
   "execution_count": 12,
   "metadata": {},
   "outputs": [
    {
     "name": "stdout",
     "output_type": "stream",
     "text": [
      "[[7.93765595 8.15200649 8.42192105]\n",
      " [6.04319835 6.33156621 7.79158199]\n",
      " [5.39402812 6.54293757 8.08595069]]\n",
      "[[69.4123209  15.15733417 90.8724292  40.67912706 33.70970519]\n",
      " [64.71975509 44.3110242  33.12523675 18.87203718 43.42499187]\n",
      " [98.0003823  97.53529109 97.21338089 97.92541753 33.72171538]\n",
      " [54.48006808 89.88115886 78.61068552 36.48032393 94.18841537]\n",
      " [33.28999474 51.7973313  16.93155342 57.04889919 43.11312373]]\n"
     ]
    }
   ],
   "source": [
    "\"\"\"\n",
    "Example Result for make_matrix(0,15,(3,3)):\n",
    "array([[14.21633515,  7.98846653,  9.64140715],\n",
    "       [ 6.30982234,  9.96414331,  8.43153688],\n",
    "       [14.73102068, 11.76072894, 14.23356121]])\n",
    "\"\"\"\n",
    "def make_matrix(low,high, shape):\n",
    "     return np.random.uniform(low, high, shape)\n",
    "    \n",
    "print(make_matrix(5, 10, (3,3)))\n",
    "\n",
    "print(make_matrix(0, 100, (5,5)))"
   ]
  },
  {
   "cell_type": "markdown",
   "metadata": {},
   "source": [
    "### #3 - Open and load the data for the Chicago White Sox hitting data for this past season.Create a function that will compare the infield players output vs the outfield players output vs *hybrid. (Infield - {C, 1B, 2B, SS, 3B, MI}, Outfield - {LF, CF, RF, OF}, *Hybrid - {DH, UT}) for a specific stat. i.e. BA or HR or OPS\n",
    "\n",
    "*Hybrid is optional\n"
   ]
  },
  {
   "cell_type": "code",
   "execution_count": 128,
   "metadata": {},
   "outputs": [
    {
     "name": "stdout",
     "output_type": "stream",
     "text": [
      "***** Batting Averages ***** \n",
      "Yasmani Grandal 0.24\n",
      "José Abreu 0.261\n",
      "Cesar Hernandez 0.232\n",
      "Tim Anderson 0.309\n",
      "Yoan Moncada 0.263\n",
      "Andrew Vaughn 0.235\n",
      "Luis Robert 0.338\n",
      "Adam Eaton 0.201\n",
      "Yermin Mercedes 0.271\n",
      "Leury Garcia 0.267\n",
      "Brian Goodwin 0.221\n",
      "Eloy Jimenez 0.249\n",
      "Zack Collins 0.21\n",
      "Nick Madrigal 0.305\n",
      "Danny Mendick 0.22\n",
      "Gavin Sheets 0.25\n",
      "Adam Engel 0.252\n",
      "Billy Hamilton 0.22\n",
      "Jake Lamb 0.212\n",
      "Seby Zavala 0.183\n",
      "Jake Burger 0.263\n",
      "Romy Gonzalez 0.25\n",
      "Nick Williams 0.0\n",
      "Luis Gonzalez 0.25\n",
      "***** Home Runs ***** \n",
      "Yasmani Grandal 23\n",
      "José Abreu 30\n",
      "Cesar Hernandez 3\n",
      "Tim Anderson 17\n",
      "Yoan Moncada 14\n",
      "Andrew Vaughn 15\n",
      "Luis Robert 13\n",
      "Adam Eaton 5\n",
      "Yermin Mercedes 7\n",
      "Leury Garcia 5\n",
      "Brian Goodwin 8\n",
      "Eloy Jimenez 10\n",
      "Zack Collins 4\n",
      "Nick Madrigal 2\n",
      "Danny Mendick 2\n",
      "Gavin Sheets 11\n",
      "Adam Engel 7\n",
      "Billy Hamilton 2\n",
      "Jake Lamb 6\n",
      "Seby Zavala 5\n",
      "Jake Burger 1\n",
      "Romy Gonzalez 0\n",
      "Nick Williams 0\n",
      "Luis Gonzalez 0\n",
      "***** On Base Plus Slugging ***** \n",
      "Yasmani Grandal 0.939\n",
      "José Abreu 0.831\n",
      "Cesar Hernandez 0.608\n",
      "Tim Anderson 0.806\n",
      "Yoan Moncada 0.787\n",
      "Andrew Vaughn 0.705\n",
      "Luis Robert 0.946\n",
      "Adam Eaton 0.642\n",
      "Yermin Mercedes 0.732\n",
      "Leury Garcia 0.711\n",
      "Brian Goodwin 0.693\n",
      "Eloy Jimenez 0.74\n",
      "Zack Collins 0.669\n",
      "Nick Madrigal 0.774\n",
      "Danny Mendick 0.589\n",
      "Gavin Sheets 0.83\n",
      "Adam Engel 0.832\n",
      "Billy Hamilton 0.62\n",
      "Jake Lamb 0.71\n",
      "Seby Zavala 0.616\n",
      "Jake Burger 0.807\n",
      "Romy Gonzalez 0.616\n",
      "Nick Williams 0.231\n",
      "Luis Gonzalez 0.955\n"
     ]
    }
   ],
   "source": [
    "import csv\n",
    "import numpy as np\n",
    "\n",
    "FIELDS = ['Rk', 'Pos', 'Name', 'Age', 'G', 'PA', 'AB', 'R', 'H', '2B', '3B', 'HR', 'RBI', 'SB', 'CS', \n",
    "          'BB', 'SO', 'BA', 'OBP', 'SLG', 'OPS', 'OPS+', 'TB', 'GDP', 'HBP', 'SH', 'SF', 'IBB']\n",
    "\n",
    "DATATYPES = [('rk', 'i'), ('pos', '|S25'), ('name', '|S25'), ('age', 'i'), ('g', 'i'), ('pa', 'i'), ('ab', 'i'),\n",
    "                ('r', 'i'), ('h', 'i'), ('2b', 'i'), ('3b', 'i'), ('hr', 'i'), ('rbi', 'i'), ('sb', 'i'), ('cs', 'i'),\n",
    "                ('bb', 'i'), ('so', 'i'), ('ba', 'f'), ('obp', 'f'), ('slg', 'f'), ('ops', 'f'), ('opsp', 'i'),\n",
    "                ('tb', 'i'), ('gdp', 'i'), ('hbp', 'i'), ('sh', 'i'), ('sf', 'i'), ('ibb', 'i')]\n",
    "\n",
    "def white_sox_21(filename, d=','):\n",
    "    data = np.genfromtxt(filename, delimiter=d, names=True, dtype=DATATYPES)\n",
    "    return data\n",
    "\n",
    "def find_stats(player_output_type):\n",
    "    ws21 = white_sox_21('./whitesox_2021_hitting.csv')\n",
    "\n",
    "    home_runs = ws21['HR']\n",
    "    on_base_s = ws21['OPS']\n",
    "    batting_average = ws21['BA']\n",
    "    names = ws21['Name']\n",
    "    positions = ws21['Pos']\n",
    "\n",
    "    clean_names = []\n",
    "    for name in names:\n",
    "        decoded_name = name.decode('utf-8')\n",
    "        clean_names.append(decoded_name)\n",
    "        \n",
    "    if(player_output_type == 'BA'):\n",
    "        print(f\"***** Batting Averages ***** \")\n",
    "        for i in range(len(clean_names)):\n",
    "            print(clean_names[i], batting_average[i])\n",
    "\n",
    "    elif(player_output_type == 'HR'):\n",
    "        print(f\"***** Home Runs ***** \")\n",
    "        for i in range(len(clean_names)):\n",
    "            print(clean_names[i], home_runs[i])\n",
    "    \n",
    "    elif(player_output_type == 'OPS'):\n",
    "        print(f\"***** On Base Plus Slugging ***** \")\n",
    "        for i in range(len(clean_names)):\n",
    "            print(clean_names[i], on_base_s[i])\n",
    "            \n",
    "find_stats('BA')\n",
    "find_stats('HR')\n",
    "find_stats('OPS')"
   ]
  },
  {
   "cell_type": "code",
   "execution_count": null,
   "metadata": {},
   "outputs": [],
   "source": [
    "\n",
    "\n",
    "FIELDS = ['Rk', 'Pos', 'Name', 'Age', 'G', 'PA', 'AB', 'R', 'H', '2B', '3B', 'HR', 'RBI', 'SB', 'CS', \n",
    "          'BB', 'SO', 'BA', 'OBP', 'SLG', 'OPS', 'OPS+', 'TB', 'GDP', 'HBP', 'SH', 'SF', 'IBB']\n",
    "\n",
    "DATATYPES = [('rk', 'i'), ('pos', '|S25'), ('name', '|S25'), ('age', 'i'), ('g', 'i'), ('pa', 'i'), ('ab', 'i'),\n",
    "                ('r', 'i'), ('h', 'i'), ('2b', 'i'), ('3b', 'i'), ('hr', 'i'), ('rbi', 'i'), ('sb', 'i'), ('cs', 'i'),\n",
    "                ('bb', 'i'), ('so', 'i'), ('ba', 'f'), ('obp', 'f'), ('slg', 'f'), ('ops', 'f'), ('opsp', 'i'),\n",
    "                ('tb', 'i'), ('gdp', 'i'), ('hbp', 'i'), ('sh', 'i'), ('sf', 'i'), ('ibb', 'i')]\n",
    "\n",
    "#Use this function to actually open the data inside of a NDArray\n",
    "\n"
   ]
  }
 ],
 "metadata": {
  "kernelspec": {
   "display_name": "Python 3 (ipykernel)",
   "language": "python",
   "name": "python3"
  },
  "language_info": {
   "codemirror_mode": {
    "name": "ipython",
    "version": 3
   },
   "file_extension": ".py",
   "mimetype": "text/x-python",
   "name": "python",
   "nbconvert_exporter": "python",
   "pygments_lexer": "ipython3",
   "version": "3.9.7"
  }
 },
 "nbformat": 4,
 "nbformat_minor": 2
}
